{
 "cells": [
  {
   "cell_type": "code",
   "execution_count": null,
   "metadata": {},
   "outputs": [],
   "source": [
    "import pandas as pd"
   ]
  },
  {
   "cell_type": "code",
   "execution_count": null,
   "metadata": {},
   "outputs": [],
   "source": [
    "cruises = pd.read_csv('data/01_cruises.csv')\n",
    "\n",
    "cruises = cruises[['Dato','ETA','ETD','Navn','Passasjerer', 'Agent', 'Kai','Tonn', 'Lengde']]"
   ]
  },
  {
   "cell_type": "code",
   "execution_count": null,
   "metadata": {},
   "outputs": [],
   "source": [
    "cruises['Navn'] = cruises['Navn'].replace('Preziosa', 'MSC Preziosa')\n",
    "cruises['Navn'] = cruises['Navn'].replace('Aidaluna', 'AIDAluna')\n",
    "cruises['Navn'] = cruises['Navn'].replace('AidaMar', 'AIDAmar')"
   ]
  },
  {
   "cell_type": "code",
   "execution_count": null,
   "metadata": {},
   "outputs": [],
   "source": [
    "# \n",
    "\n",
    "# Filling the times for World Traveler\n",
    "row_index = 16\n",
    "column_name = 'ETA'\n",
    "value_to_fill = '08:00'\n",
    "\n",
    "cruises.loc[row_index, column_name] = cruises.loc[row_index, column_name] if pd.notna(cruises.loc[row_index, column_name]) else value_to_fill\n",
    "\n",
    "row_index = 16\n",
    "column_name = 'ETD'\n",
    "value_to_fill = '17:00'\n",
    "\n",
    "cruises.loc[row_index, column_name] = cruises.loc[row_index, column_name] if pd.notna(cruises.loc[row_index, column_name]) else value_to_fill\n",
    "\n",
    "# Filling the times for Jewel of the Sea which stayed overnight\n",
    "row_index = 47\n",
    "column_name = 'ETD'\n",
    "value_to_fill = '23:00'\n",
    "\n",
    "cruises.loc[row_index, column_name] = cruises.loc[row_index, column_name] if pd.notna(cruises.loc[row_index, column_name]) else value_to_fill\n",
    "\n",
    "row_index = 49\n",
    "column_name = 'ETA'\n",
    "value_to_fill = '00:00'\n",
    "\n",
    "cruises.loc[row_index, column_name] = cruises.loc[row_index, column_name] if pd.notna(cruises.loc[row_index, column_name]) else value_to_fill\n"
   ]
  },
  {
   "cell_type": "code",
   "execution_count": null,
   "metadata": {},
   "outputs": [],
   "source": [
    "# Example DataFrame (assuming it's already defined)\n",
    "# data = {'ETA': [None]*50, 'ETD': [None]*50}\n",
    "# cruises = pd.DataFrame(data)\n",
    "\n",
    "def corrections(df, updates):\n",
    "    for row, collumn, value in updates:\n",
    "        if pd.isna(df.loc[row, collumn]):\n",
    "            df.loc[row, collumn] = value\n",
    "\n",
    "# Define all updates in a list of tuples\n",
    "update = [\n",
    "    # (13, 'ETD', '02:00'),\n",
    "    (16, 'ETA', '08:00'),\n",
    "    (16, 'ETD', '17:00'),\n",
    "    # (18, 'ETA', '08:00'),\n",
    "    # (19, 'ETA', '13:00'),\n",
    "    # (21, 'ETA', '08:00'),\n",
    "    # (27, 'ETA', '19:00'),\n",
    "    # (33, 'ETA', '15:00'),\n",
    "    # (34, 'ETA', '07:00'),\n",
    "    (47, 'ETD', '23:00'),\n",
    "    (49, 'ETA', '00:00'),\n",
    "    # (113, 'ETD', '23:00'),\n",
    "    # (115, 'ETA', '00:00'),\n",
    "    # (115, 'ETD', '02:00')\n",
    "]\n",
    "\n",
    "# (19, 'ETD', '01:00'), (05, 'ETD', '05:00'),  (25, 'ETD', '08:00'),  (27, 'ETD', '06:00'), (33, 'ETD', '02:00'), (34, 'ETD', '17:00'), (35, 'ETD', '06:00'), (36, 'ETd', '05:00'),\n",
    "#  - TATO ZUSTALA DO 1 V NOCI. MUSIME PRIDAT RADEK\n",
    "\n",
    "# drop: radek 23, 30, 38\n",
    "\n",
    "# Apply all updates in one function call\n",
    "corrections(cruises, update)"
   ]
  },
  {
   "cell_type": "code",
   "execution_count": null,
   "metadata": {},
   "outputs": [],
   "source": [
    "# correcting the times of Hamburg\n",
    "\n",
    "row_index = 113\n",
    "column_name = 'ETD'\n",
    "value_to_fill = '23:00'\n",
    "\n",
    "cruises.loc[row_index, column_name] = value_to_fill"
   ]
  },
  {
   "cell_type": "code",
   "execution_count": null,
   "metadata": {},
   "outputs": [],
   "source": [
    "# zbavily jsme se Queen Victoria na indexu 15, ktera nedoplula.\n",
    "cruises = cruises.drop(15, axis='index') "
   ]
  },
  {
   "cell_type": "code",
   "execution_count": null,
   "metadata": {},
   "outputs": [],
   "source": [
    "# # Kontrola toho, ze uz nemame v cruises hodnoty s nevyplnenym casem\n",
    "lode = cruises[['Navn','Passasjerer','Dato','ETA','ETD']] #timhle si vyberu, ktere tabulky maji chybu a kuzu si to zkontrolovat v tabulce s rozpisem sluzeb, kdy lode opravdu dojely\n",
    "\n",
    "nula = lode[lode.isna().any(axis=1)]\n",
    "nula"
   ]
  },
  {
   "cell_type": "code",
   "execution_count": null,
   "metadata": {},
   "outputs": [],
   "source": [
    "cruises.to_csv('data/cruises.csv')\n",
    "# cruises.to_csv('data/cruises.csv', index=False)"
   ]
  }
 ],
 "metadata": {
  "kernelspec": {
   "display_name": "Python 3",
   "language": "python",
   "name": "python3"
  },
  "language_info": {
   "codemirror_mode": {
    "name": "ipython",
    "version": 3
   },
   "file_extension": ".py",
   "mimetype": "text/x-python",
   "name": "python",
   "nbconvert_exporter": "python",
   "pygments_lexer": "ipython3",
   "version": "3.12.2"
  }
 },
 "nbformat": 4,
 "nbformat_minor": 2
}
