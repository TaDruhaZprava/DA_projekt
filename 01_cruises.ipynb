{
 "cells": [
  {
   "cell_type": "code",
   "execution_count": null,
   "metadata": {},
   "outputs": [],
   "source": [
    "import pandas as pd\n",
    "from datetime import timedelta"
   ]
  },
  {
   "cell_type": "code",
   "execution_count": null,
   "metadata": {},
   "outputs": [],
   "source": [
    "cruises = pd.read_csv('data/01_cruises.csv')\n",
    "\n",
    "cruises = cruises[['Dato','ETA','ETD','Navn','Passasjerer','Kai', 'Agent','Tonn', 'Lengde']]\n",
    "\n",
    "# Filling the times for World Traveler\n",
    "row_index = 16\n",
    "column_name = 'ETA'\n",
    "value_to_fill = '08:00'\n",
    "\n",
    "cruises.loc[row_index, column_name] = cruises.loc[row_index, column_name] if pd.notna(cruises.loc[row_index, column_name]) else value_to_fill\n",
    "\n",
    "row_index = 16\n",
    "column_name = 'ETD'\n",
    "value_to_fill = '17:00'\n",
    "\n",
    "cruises.loc[row_index, column_name] = cruises.loc[row_index, column_name] if pd.notna(cruises.loc[row_index, column_name]) else value_to_fill\n",
    "\n",
    "# Filling the times for Jewel of the Sea which stayed overnight\n",
    "row_index = 47\n",
    "column_name = 'ETD'\n",
    "value_to_fill = '23:00'\n",
    "\n",
    "cruises.loc[row_index, column_name] = cruises.loc[row_index, column_name] if pd.notna(cruises.loc[row_index, column_name]) else value_to_fill\n",
    "\n",
    "row_index = 49\n",
    "column_name = 'ETA'\n",
    "value_to_fill = '00:00'\n",
    "\n",
    "cruises.loc[row_index, column_name] = cruises.loc[row_index, column_name] if pd.notna(cruises.loc[row_index, column_name]) else value_to_fill\n",
    "\n",
    "# zbavily jsme se Queen Victoria na indexu 15, ktera nedoplula.\n",
    "cruises = cruises.drop(15, axis='index') \n",
    "\n",
    "\n",
    "# # Kontrola toho, ze uz nemame v cruises hodnoty s nevyplnenym casem\n",
    "# lode = cruises[['Navn','Passasjerer','Dato','ETA','ETD']] #timhle si vyberu, ktere tabulky maji chybu a kuzu si to zkontrolovat v tabulce s rozpisem sluzeb, kdy lode opravdu dojely\n",
    "\n",
    "# nula = lode[lode.isna().any(axis=1)]\n",
    "# nula\n",
    "\n"
   ]
  },
  {
   "cell_type": "markdown",
   "metadata": {},
   "source": [
    "### Úprava data z formátu \"dd.mm.yyyy\" do formátu \"yyyy-mm-dd\":"
   ]
  },
  {
   "cell_type": "code",
   "execution_count": null,
   "metadata": {},
   "outputs": [],
   "source": [
    "cruises[[\"Day\", \"Month\", \"Year\"]] = cruises[\"Dato\"].str.split(\".\", expand=True)\n",
    "cruises[\"Date of arrival\"] = cruises[\"Year\"] + \"-\" + cruises[\"Month\"]+ \"-\" + cruises[\"Day\"]\n",
    "cruises[\"Date of departure\"] = cruises[\"Year\"] + \"-\" + cruises[\"Month\"]+ \"-\" + cruises[\"Day\"]\n",
    "cruises = cruises.drop([\"Dato\", \"Day\", \"Month\", \"Year\"], axis=\"columns\")\n",
    "cruises = cruises[[\"Date of arrival\",\"Date of departure\",'ETA','ETD','Navn','Passasjerer','Kai', 'Agent','Tonn', 'Lengde']]\n",
    "\n",
    "## Toto jsem s dovolením přesunula z té části s tvým kódem, ať to CSVčko tvoříme až po všech těch úpravách\n",
    "# cruises.to_csv('data/cruises.csv', index=False) \n",
    "\n",
    "\n"
   ]
  },
  {
   "cell_type": "markdown",
   "metadata": {},
   "source": [
    "Nové sloupečky ETA date/ETD date - slepený čas + datum příjezdu/odjezdu lodě"
   ]
  },
  {
   "cell_type": "code",
   "execution_count": null,
   "metadata": {},
   "outputs": [],
   "source": [
    "cruises[\"ETA date\"] = cruises[\"Date of arrival\"] + \" \" + cruises[\"ETA\"] + \":00\"\n",
    "cruises[\"ETD date\"] = cruises[\"Date of arrival\"] + \" \" + cruises[\"ETD\"] + \":00\"\n",
    "\n",
    "# # Změní čas na typ datetime místo objectu, co to byl původně \n",
    "cruises[\"ETA date\"] = pd.to_datetime(cruises[\"ETA date\"], errors='coerce')\n",
    "cruises[\"ETD date\"] = pd.to_datetime(cruises[\"ETD date\"], errors='coerce')\n",
    "\n",
    "# # Vypočítá rozdíl v časech - vyhazuje to - 1 den když loď přijede před půlnocí a odjede na druhý den\n",
    "cruises[\"Time in harbour\"] = cruises[\"ETD date\"] - cruises[\"ETA date\"]\n",
    "\n",
    "#index name, ať se mi na to líp hledí\n",
    "cruises.index.name = \"ID\"\n"
   ]
  },
  {
   "cell_type": "markdown",
   "metadata": {},
   "source": [
    "### Převedení sloupečků 'Date of arrival' a 'Date of departure' na typ datetime64[ns]"
   ]
  },
  {
   "cell_type": "code",
   "execution_count": null,
   "metadata": {},
   "outputs": [],
   "source": [
    "cruises['Date of arrival'] = pd.to_datetime(cruises['Date of arrival'])\n",
    "cruises['Date of departure'] = pd.to_datetime(cruises['Date of departure'])\n"
   ]
  },
  {
   "cell_type": "markdown",
   "metadata": {},
   "source": [
    "### Projdi tabulku cruises a pokud je ve sloupci \"Time in harbour\" rozdíl méně než 0 dní 0:00:00, přičti ke sloupečku \"Date of departure\" jeden den: "
   ]
  },
  {
   "cell_type": "code",
   "execution_count": null,
   "metadata": {},
   "outputs": [],
   "source": [
    "# Definice podmínky, za které se přičte den navíc do sloupečku \"Date of departure\"\n",
    "podminka_pridani_dne = cruises[\"Time in harbour\"] < \"0 days 00:00:00\"\n",
    "\n",
    "# Aplikace podmínky\n",
    "cruises.loc[podminka_pridani_dne, \"Date of departure\"] = cruises[\"Date of departure\"] + timedelta(days=1)\n",
    "\n",
    "# zbavím se sloupečků, co nechci:\n",
    "cruises = cruises.drop([\"ETA date\", \"ETD date\", \"Time in harbour\"], axis=\"columns\")\n",
    "cruises.head(20)\n",
    "### Výsledná tabulka má date of departure o den větší než date of arrival, pokus je mezi časy příjezdu a odjezdu půlnoc\n"
   ]
  },
  {
   "cell_type": "markdown",
   "metadata": {},
   "source": [
    "## Export do csvčka"
   ]
  },
  {
   "cell_type": "code",
   "execution_count": null,
   "metadata": {},
   "outputs": [],
   "source": [
    "cruises.to_csv('data/cruises.csv', index=False) "
   ]
  }
 ],
 "metadata": {
  "kernelspec": {
   "display_name": "Python 3",
   "language": "python",
   "name": "python3"
  },
  "language_info": {
   "codemirror_mode": {
    "name": "ipython",
    "version": 3
   },
   "file_extension": ".py",
   "mimetype": "text/x-python",
   "name": "python",
   "nbconvert_exporter": "python",
   "pygments_lexer": "ipython3",
   "version": "3.12.2"
  }
 },
 "nbformat": 4,
 "nbformat_minor": 2
}
