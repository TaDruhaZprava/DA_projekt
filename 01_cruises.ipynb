{
 "cells": [
  {
   "cell_type": "code",
   "execution_count": 43,
   "metadata": {},
   "outputs": [],
   "source": [
    "import pandas as pd"
   ]
  },
  {
   "cell_type": "code",
   "execution_count": 46,
   "metadata": {},
   "outputs": [],
   "source": [
    "cruises = pd.read_csv('data/01_cruises.csv')\n",
    "\n",
    "cruises = cruises[['Dato','ETA','ETD','Navn','Passasjerer','Kai', 'Agent','Tonn', 'Lengde']]\n",
    "\n",
    "# Filling the times for World Traveler\n",
    "row_index = 16\n",
    "column_name = 'ETA'\n",
    "value_to_fill = '08:00'\n",
    "\n",
    "cruises.loc[row_index, column_name] = cruises.loc[row_index, column_name] if pd.notna(cruises.loc[row_index, column_name]) else value_to_fill\n",
    "\n",
    "row_index = 16\n",
    "column_name = 'ETD'\n",
    "value_to_fill = '17:00'\n",
    "\n",
    "cruises.loc[row_index, column_name] = cruises.loc[row_index, column_name] if pd.notna(cruises.loc[row_index, column_name]) else value_to_fill\n",
    "\n",
    "# Filling the times for Jewel of the Sea which stayed overnight\n",
    "row_index = 47\n",
    "column_name = 'ETD'\n",
    "value_to_fill = '23:00'\n",
    "\n",
    "cruises.loc[row_index, column_name] = cruises.loc[row_index, column_name] if pd.notna(cruises.loc[row_index, column_name]) else value_to_fill\n",
    "\n",
    "row_index = 49\n",
    "column_name = 'ETA'\n",
    "value_to_fill = '00:00'\n",
    "\n",
    "cruises.loc[row_index, column_name] = cruises.loc[row_index, column_name] if pd.notna(cruises.loc[row_index, column_name]) else value_to_fill\n",
    "\n",
    "# zbavily jsme se Queen Victoria na indexu 15, ktera nedoplula.\n",
    "cruises = cruises.drop(15, axis='index') \n",
    "\n",
    "cruises.to_csv('data/cruises.csv', index=False)\n",
    "\n",
    "\n",
    "\n",
    "# # Kontrola toho, ze uz nemame v cruises hodnoty s nevyplnenym casem\n",
    "# lode = cruises[['Navn','Passasjerer','Dato','ETA','ETD']] #timhle si vyberu, ktere tabulky maji chybu a kuzu si to zkontrolovat v tabulce s rozpisem sluzeb, kdy lode opravdu dojely\n",
    "\n",
    "# nula = lode[lode.isna().any(axis=1)]\n",
    "# nula\n",
    "\n",
    "\n"
   ]
  }
 ],
 "metadata": {
  "kernelspec": {
   "display_name": "Python 3",
   "language": "python",
   "name": "python3"
  },
  "language_info": {
   "codemirror_mode": {
    "name": "ipython",
    "version": 3
   },
   "file_extension": ".py",
   "mimetype": "text/x-python",
   "name": "python",
   "nbconvert_exporter": "python",
   "pygments_lexer": "ipython3",
   "version": "3.12.2"
  }
 },
 "nbformat": 4,
 "nbformat_minor": 2
}
