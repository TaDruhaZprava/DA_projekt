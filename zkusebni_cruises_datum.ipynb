{
 "cells": [
  {
   "cell_type": "code",
   "execution_count": null,
   "metadata": {},
   "outputs": [],
   "source": [
    "import pandas as pd"
   ]
  },
  {
   "cell_type": "code",
   "execution_count": null,
   "metadata": {},
   "outputs": [],
   "source": [
    "cruises = pd.read_csv('data/01_cruises.csv')\n",
    "\n",
    "cruises = cruises[['Dato','ETA','ETD','Navn','Passasjerer','Kai', 'Agent','Tonn', 'Lengde']]\n",
    "\n",
    "# Filling the times for World Traveler\n",
    "row_index = 16\n",
    "column_name = 'ETA'\n",
    "value_to_fill = '08:00'\n",
    "\n",
    "cruises.loc[row_index, column_name] = cruises.loc[row_index, column_name] if pd.notna(cruises.loc[row_index, column_name]) else value_to_fill\n",
    "\n",
    "row_index = 16\n",
    "column_name = 'ETD'\n",
    "value_to_fill = '17:00'\n",
    "\n",
    "cruises.loc[row_index, column_name] = cruises.loc[row_index, column_name] if pd.notna(cruises.loc[row_index, column_name]) else value_to_fill\n",
    "\n",
    "# Filling the times for Jewel of the Sea which stayed overnight\n",
    "row_index = 47\n",
    "column_name = 'ETD'\n",
    "value_to_fill = '23:00'\n",
    "\n",
    "cruises.loc[row_index, column_name] = cruises.loc[row_index, column_name] if pd.notna(cruises.loc[row_index, column_name]) else value_to_fill\n",
    "\n",
    "row_index = 49\n",
    "column_name = 'ETA'\n",
    "value_to_fill = '00:00'\n",
    "\n",
    "cruises.loc[row_index, column_name] = cruises.loc[row_index, column_name] if pd.notna(cruises.loc[row_index, column_name]) else value_to_fill\n",
    "\n",
    "# zbavily jsme se Queen Victoria na indexu 15, ktera nedoplula.\n",
    "cruises = cruises.drop(15, axis='index') \n",
    "\n",
    "\n",
    "\n",
    "# # Kontrola toho, ze uz nemame v cruises hodnoty s nevyplnenym casem\n",
    "# lode = cruises[['Navn','Passasjerer','Dato','ETA','ETD']] #timhle si vyberu, ktere tabulky maji chybu a kuzu si to zkontrolovat v tabulce s rozpisem sluzeb, kdy lode opravdu dojely\n",
    "\n",
    "# nula = lode[lode.isna().any(axis=1)]\n",
    "# nula\n",
    "\n",
    "\n"
   ]
  },
  {
   "cell_type": "markdown",
   "metadata": {},
   "source": [
    "### Úprava data z formátu \"dd.mm.yyyy\" do formátu \"yyyy-mm-dd\":"
   ]
  },
  {
   "cell_type": "code",
   "execution_count": null,
   "metadata": {},
   "outputs": [],
   "source": [
    "cruises[[\"Day\", \"Month\", \"Year\"]] = cruises[\"Dato\"].str.split(\".\", expand=True)\n",
    "cruises[\"Date of arrival\"] = cruises[\"Year\"] + \"-\" + cruises[\"Month\"]+ \"-\" + cruises[\"Day\"]\n",
    "cruises = cruises.drop([\"Dato\", \"Day\", \"Month\", \"Year\"], axis=\"columns\")\n",
    "cruises = cruises[[\"Date of arrival\", 'ETA','ETD','Navn','Passasjerer','Kai', 'Agent','Tonn', 'Lengde']]\n",
    "cruises\n",
    "\n",
    "## Toto jsem s dovolením přesunula z té části s tvým kódem, ať to CSVčko tvoříme až po všech těch úpravách\n",
    "# cruises.to_csv('data/cruises.csv', index=False) \n"
   ]
  },
  {
   "cell_type": "code",
   "execution_count": null,
   "metadata": {},
   "outputs": [],
   "source": [
    "#tohle je asi zbytečný\n",
    "\n",
    "# cruises[[\"ETAHours\", \"ETAMinutes\"]] = cruises[\"ETA\"].str.split(\":\", expand=True)\n",
    "# cruises[\"newETA\"] = cruises[\"ETAHours\"] + cruises[\"ETAMinutes\"]\n",
    "# cruises[[\"ETDHours\", \"ETDMinutes\"]] = cruises[\"ETD\"].str.split(\":\", expand=True)\n",
    "# cruises[\"newETD\"] = cruises[\"ETDHours\"] + cruises[\"ETDMinutes\"]\n",
    "# cruises = cruises.drop([\"ETA\", \"ETD\", \"ETAHours\", \"ETAMinutes\", \"ETDHours\", \"ETDMinutes\"], axis=\"columns\")\n",
    "# cruises"
   ]
  },
  {
   "cell_type": "code",
   "execution_count": null,
   "metadata": {},
   "outputs": [],
   "source": [
    "cruises[\"ETA date\"] = cruises[\"Date of arrival\"] + \" \" + cruises[\"ETA\"] + \":00\"\n",
    "cruises[\"ETD date\"] = cruises[\"Date of arrival\"] + \" \" + cruises[\"ETD\"] + \":00\"\n",
    "cruises\n",
    "\n",
    "# cruises = cruises.drop([\"Date\", \"ETA\", \"ETD\"], axis=\"columns\")\n",
    "# cruises = cruises[[\"ETA date\", 'ETD date', 'Navn','Passasjerer','Kai', 'Agent','Tonn', 'Lengde']]\n",
    "\n",
    "\n",
    "# # Změní čas na typ datetime místo objectu, co to byl původně \n",
    "cruises[\"ETA date\"] = pd.to_datetime(cruises[\"ETA date\"], errors='coerce')\n",
    "cruises[\"ETD date\"] = pd.to_datetime(cruises[\"ETD date\"], errors='coerce')\n",
    "\n",
    "# # Vypočítá rozdíl v časech - vyhazuje to - 1 den když loď přijede před půlnocí a odjede na druhý den\n",
    "cruises[\"Time in harbour\"] = cruises[\"ETD date\"] - cruises[\"ETA date\"]\n",
    "\n",
    "\n",
    "# cruises[\"Hours in harbour\"] = round((cruises[\"ETD date\"] - cruises[\"ETA date\"]).dt.total_seconds()/60/60)\n",
    "# # cruises[\"Hours in harbour\"] = cruises[\"ETD date\"] - cruises[\"ETA date\"].dt.total_seconds/60/60\n",
    "cruises.index.name = \"ID\"\n",
    "cruises\n",
    "# cruises.to_csv('data/cruises.csv') "
   ]
  },
  {
   "cell_type": "markdown",
   "metadata": {},
   "source": [
    "### definice podmínky za jaké se přidá den navíc do sloupečku \"Date of departure\""
   ]
  },
  {
   "cell_type": "code",
   "execution_count": null,
   "metadata": {},
   "outputs": [],
   "source": [
    "# den_navic = cruises[cruises[\"Time in harbour\"] < \"0 days 00:00:00\"]\n",
    "# den_navic\n",
    "# den_navic.to_csv('data/den_navic.csv') \n",
    "podminka_pridani_dne = cruises[\"Time in harbour\"] < \"0 days 00:00:00\""
   ]
  },
  {
   "cell_type": "markdown",
   "metadata": {},
   "source": [
    "### Vytvoření sloupečku \"Date of Departure\":"
   ]
  },
  {
   "cell_type": "code",
   "execution_count": null,
   "metadata": {},
   "outputs": [],
   "source": [
    "cruises[\"Date of departure\"] = cruises [\"Date of arrival\"]\n",
    "cruises = cruises[['Date of arrival', 'Date of departure', 'ETA', 'ETD', 'Navn', 'Passasjerer', 'Kai', 'Agent',\n",
    "       'Tonn', 'Lengde', 'ETA date', 'ETD date', 'Time in harbour']]\n"
   ]
  },
  {
   "cell_type": "markdown",
   "metadata": {},
   "source": [
    "### převedení sloupečků 'Date of arrival' a 'Date of departure' na typ datetime64[ns]"
   ]
  },
  {
   "cell_type": "code",
   "execution_count": null,
   "metadata": {},
   "outputs": [],
   "source": [
    "cruises['Date of arrival'] = pd.to_datetime(cruises['Date of arrival'])\n",
    "cruises['Date of departure'] = pd.to_datetime(cruises['Date of departure'])\n",
    "cruises"
   ]
  },
  {
   "cell_type": "markdown",
   "metadata": {},
   "source": [
    "### Projdi celou tabulku lodě a kdzž bude podmínka/proměnná \"podminka_pridani_dne\" True, přičti den k hodnotě ve sloupečku \"Date of departure\""
   ]
  },
  {
   "cell_type": "markdown",
   "metadata": {},
   "source": [
    "Umím přidat k hodnotě jeden den? Umím, pomocí timedelta!"
   ]
  },
  {
   "cell_type": "code",
   "execution_count": null,
   "metadata": {},
   "outputs": [],
   "source": [
    "# from datetime import timedelta\n",
    "# cruises[\"Date of departure + 1\"] = cruises[\"Date of departure\"] + timedelta(days=1)\n",
    "# cruises"
   ]
  },
  {
   "cell_type": "code",
   "execution_count": null,
   "metadata": {},
   "outputs": [],
   "source": []
  }
 ],
 "metadata": {
  "kernelspec": {
   "display_name": "Python 3",
   "language": "python",
   "name": "python3"
  },
  "language_info": {
   "codemirror_mode": {
    "name": "ipython",
    "version": 3
   },
   "file_extension": ".py",
   "mimetype": "text/x-python",
   "name": "python",
   "nbconvert_exporter": "python",
   "pygments_lexer": "ipython3",
   "version": "3.12.2"
  }
 },
 "nbformat": 4,
 "nbformat_minor": 2
}
