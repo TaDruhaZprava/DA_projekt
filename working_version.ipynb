{
 "cells": [
  {
   "cell_type": "markdown",
   "metadata": {},
   "source": [
    "## Nezapomínat \"Clear all Outputs\" a kdykoliv něco načítá nebo exportuje, připojit před to \"data/\" !"
   ]
  },
  {
   "cell_type": "markdown",
   "metadata": {},
   "source": [
    "Tahle verze papá vstupní tabulky \"05_shifts_to_boats_04.csv\" a \"01_cruises.csv\" a kaká harbour - situaci v přístavu hodinu po hodině \n",
    "\n",
    "Některé úpravy jsou pevně vázány na čísla indexů, tak bacha když budem chtít něco vepisovat"
   ]
  },
  {
   "cell_type": "code",
   "execution_count": null,
   "metadata": {},
   "outputs": [],
   "source": [
    "import pandas as pd\n",
    "from datetime import timedelta"
   ]
  },
  {
   "cell_type": "code",
   "execution_count": null,
   "metadata": {},
   "outputs": [],
   "source": [
    "cruises = pd.read_csv('data/01_cruises.csv')\n",
    "cruises = cruises[['Dato','ETA','ETD','Navn','Passasjerer','Kai', 'Agent','Tonn', 'Lengde']]\n",
    "cruises = cruises.rename(columns={\"Dato\": \"date\", \"Navn\": \"boat\", \"Passasjerer\": \"passengers\", \"Kai\": \"quay\", \"Tonn\": \"weight\", \"Lengde\": \"lenght\", 'Agent': 'agent'})\n",
    "cruises.head(20)"
   ]
  },
  {
   "cell_type": "code",
   "execution_count": null,
   "metadata": {},
   "outputs": [],
   "source": [
    "# updating times for World Traveler, Jewel of the Sea, getting rid of Queen Victoria and Hamburg\n",
    "def corrections(df, updates):\n",
    "    for row, collumn, value in updates:\n",
    "        if pd.isna(df.loc[row, collumn]):\n",
    "            df.loc[row, collumn] = value\n",
    "\n",
    "# Define all updates in a list of tuples\n",
    "update = [\n",
    "    (16, 'ETA', '08:00'),\n",
    "    (16, 'ETD', '17:00'),\n",
    "    (49, 'ETA', '14:00'), \n",
    "    (113, 'ETD', '23:00')\n",
    "]\n",
    "\n",
    "corrections(cruises, update)\n"
   ]
  },
  {
   "cell_type": "code",
   "execution_count": null,
   "metadata": {},
   "outputs": [],
   "source": [
    "# Tady pracovně vyhazuju i Trollfjorda na indexu 160 (17.11.2023) - zjistili jsme, že nepřijel\n",
    "cruises = cruises.drop(index=[15, 47, 115, 160], axis=0) \n"
   ]
  },
  {
   "cell_type": "code",
   "execution_count": null,
   "metadata": {},
   "outputs": [],
   "source": [
    "replacements = {\n",
    "    'Aidabella': 'AIDAbella',\n",
    "    'Aidaluna': 'AIDAluna',\n",
    "    'AidaMar': 'AIDAmar',\n",
    "    'Aidasol': 'AIDAsol',\n",
    "    'Preziosa': 'MSC Preziosa',\n",
    "    'Sverdrup': 'Otto Sverdrup',\n",
    "    'Sverdrup ?': 'Otto Sverdrup',\n",
    "    'Hamburg ?': 'Hamburg',\n",
    "    'Ocean Majesty?': 'Ocean Majesty',\n",
    "    'Mein Schiff': 'Mein Schiff 4',\n",
    "    'Island Princess?': 'Island Princess',\n",
    "    'Nieuw Statendam?': 'Nieuw Statendam',\n",
    "    \"Borealis 61'\": 'Borealis',\n",
    "    'Europa (Skarsv?g)': 'Europa',\n",
    "    'Pacific World (p1800)': 'Pacific World',\n",
    "    'Queen Viktoria (2200)': 'Queen Viktoria',\n",
    "    'Ambience p1000': 'Ambience',\n",
    "    'MS Marina p600': 'MS Marina',\n",
    "    'Riviera p1258': 'Riviera',\n",
    "    'Preziosa ': 'MSC Preziosa',\n",
    "    'Preziosa': 'MSC Preziosa',\n",
    "    'Ambition?': 'Ambition',\n",
    "    'Greg Mortimer p160': 'Greg Mortimer', \n",
    "    'Sevens Seas Navigator': 'Seven Seas Navigator', \n",
    "    'Seabourn Oviation': 'Seabourn Ovation'\n",
    "}\n",
    "\n",
    "cruises['boat'] = cruises['boat'].replace(replacements)\n",
    "\n",
    "cruises"
   ]
  },
  {
   "cell_type": "code",
   "execution_count": null,
   "metadata": {},
   "outputs": [],
   "source": [
    "cruises[[\"Day\", \"Month\", \"Year\"]] = cruises[\"date\"].str.split(\".\", expand=True)\n",
    "cruises[\"Date of arrival\"] = cruises[\"Year\"] + \"-\" + cruises[\"Month\"]+ \"-\" + cruises[\"Day\"]\n",
    "cruises[\"Date of departure\"] = cruises [\"Date of arrival\"]\n",
    "cruises = cruises.drop([\"date\", \"Day\", \"Month\", \"Year\"], axis=\"columns\")\n",
    "cruises = cruises[['Date of arrival', 'Date of departure', 'ETA', 'ETD', 'boat', 'passengers', 'quay', 'agent',\n",
    "       'weight', 'lenght']]\n",
    "cruises"
   ]
  },
  {
   "cell_type": "code",
   "execution_count": null,
   "metadata": {},
   "outputs": [],
   "source": [
    "cruises[\"Date\"] = cruises[\"Date of arrival\"]\n",
    "cruises.to_csv(\"data/cruises.csv\", encoding=\"utf-8\")"
   ]
  },
  {
   "cell_type": "markdown",
   "metadata": {},
   "source": [
    "## Tabulka Shifts (obsahuje přesnější ETA/ETD lodí):"
   ]
  },
  {
   "cell_type": "code",
   "execution_count": null,
   "metadata": {},
   "outputs": [],
   "source": [
    "shifts = pd.read_csv(\"data/05_shifts_to_boats_04.csv\")\n",
    "shifts"
   ]
  },
  {
   "cell_type": "code",
   "execution_count": null,
   "metadata": {},
   "outputs": [],
   "source": [
    "shifts[[\"Month\", \"Day\", \"Year\"]] = shifts[\"date\"].str.split(\"/\", expand=True)\n",
    "shifts[\"Month\"] = shifts[\"Month\"].str.rjust(2, \"0\")\n",
    "shifts[\"Day\"] = shifts[\"Day\"].str.rjust(2, \"0\")\n",
    "shifts[\"Date\"] = shifts[\"Year\"] + \"-\" + shifts[\"Month\"] + \"-\" + shifts[\"Day\"]\n",
    "\n",
    "shifts = shifts.drop([\"Month\",\"Day\",\"Year\", \"date\"], axis=\"columns\")\n",
    "shifts"
   ]
  },
  {
   "cell_type": "code",
   "execution_count": null,
   "metadata": {},
   "outputs": [],
   "source": [
    "shifts[\"time\"] = shifts[\"time\"].str.strip()\n",
    "\n",
    "shifts[[\"ETA\", \"ETD\"]] = shifts[\"time\"].str.split(\"-\", expand=True) \n",
    "shifts[\"ETA\"] = shifts[\"ETA\"].str.strip()\n",
    "shifts[\"ETA\"] = shifts[\"ETA\"].str.strip(\":\")\n",
    "shifts[\"ETA\"] = shifts[\"ETA\"].str.strip(\"?\")\n",
    "shifts[\"ETD\"] = shifts[\"ETD\"].str.strip()\n",
    "shifts[\"ETD\"] = shifts[\"ETD\"].str.strip(\":\")\n",
    "shifts[\"ETD\"] = shifts[\"ETD\"].str.strip(\"?\")\n",
    "\n"
   ]
  },
  {
   "cell_type": "code",
   "execution_count": null,
   "metadata": {},
   "outputs": [],
   "source": [
    "def corrections(df, updates):\n",
    "    for row, collumn, value in updates:\n",
    "        df.loc[row, collumn] = value\n",
    "            \n",
    "\n",
    "# Define all updates in a list of tuples\n",
    "update = [\n",
    "    (116, 'ETA', '1400'),\n",
    "    (116, 'ETD', '2000'),\n",
    "]\n",
    "\n",
    "# Apply all updates in one function call\n",
    "corrections(shifts, update)\n",
    "# shifts.to_csv(\"shifts.csv\", encoding=\"utf-8\")\n",
    "shifts['ETD'] = shifts['ETD'].replace({\"2400\":\"2359\"})\n",
    "\n"
   ]
  },
  {
   "cell_type": "code",
   "execution_count": null,
   "metadata": {},
   "outputs": [],
   "source": [
    "prvni_pulka_ETA = shifts['ETA'].str.slice(0, 2)\n",
    "druha_pulka_ETA = shifts['ETA'].str.slice(2, 5)\n",
    "shifts[\"ETA\"] = prvni_pulka_ETA + \":\" + druha_pulka_ETA\n",
    "prvni_pulka_ETD = shifts['ETD'].str.slice(0, 2)\n",
    "druha_pulka_ETD = shifts['ETD'].str.slice(2, 5)\n",
    "shifts[\"ETD\"] = prvni_pulka_ETD + \":\" + druha_pulka_ETD\n",
    "\n",
    "shifts.loc[shifts['ETA'] == \":\", 'ETA'] = \"\"\n",
    "shifts.loc[shifts['ETD'] == \":\", 'ETD'] = \"\"\n",
    "## casy vyresene, ted nazvy\n",
    "shifts\n"
   ]
  },
  {
   "cell_type": "code",
   "execution_count": null,
   "metadata": {},
   "outputs": [],
   "source": [
    "replacements = {\n",
    "    'Aidabella': 'AIDAbella',\n",
    "    'Aidaluna': 'AIDAluna',\n",
    "    'AidaMar': 'AIDAmar',\n",
    "    'Aidasol': 'AIDAsol',\n",
    "    'Preziosa': 'MSC Preziosa',\n",
    "    'Sverdrup': 'Otto Sverdrup',\n",
    "    'Sverdrup ?': 'Otto Sverdrup',\n",
    "    'Hamburg ?': 'Hamburg',\n",
    "    'Ocean Majesty?': 'Ocean Majesty',\n",
    "    'Mein Schiff': 'Mein Schiff 4',\n",
    "    'Island Princess?': 'Island Princess',\n",
    "    'Nieuw Statendam?': 'Nieuw Statendam',\n",
    "    \"Borealis 61'\": 'Borealis',\n",
    "    'Europa (Skarsv?g)': 'Europa',\n",
    "    'Pacific World (p1800)': 'Pacific World',\n",
    "    'Queen Viktoria (2200)': 'Queen Viktoria',\n",
    "    'Ambience p1000': 'Ambience',\n",
    "    'MS Marina p600': 'MS Marina',\n",
    "    'Riviera p1258': 'Riviera',\n",
    "    'Preziosa ': 'MSC Preziosa',\n",
    "    'Preziosa': 'MSC Preziosa',\n",
    "    'Ambition?': 'Ambition',\n",
    "    'Greg Mortimer p160': 'Greg Mortimer',\n",
    "    'Vasgo Da Gama': 'Vasco Da Gama',\n",
    "    'Arcadia p2388': 'Arcadia', \n",
    "    'Jewel of the seas': 'Jewel of the Seas'\n",
    "}\n",
    "shifts[\"boat\"] = shifts[\"boat\"].str.strip(\" ?\")\n",
    "shifts['boat'] = shifts['boat'].replace(replacements)\n",
    "\n",
    "shifts"
   ]
  },
  {
   "cell_type": "code",
   "execution_count": null,
   "metadata": {},
   "outputs": [],
   "source": [
    "shifts.to_csv(\"data/shifts.csv\")"
   ]
  },
  {
   "cell_type": "markdown",
   "metadata": {},
   "source": [
    "## Spojení tabulek, ať můžem nahradit časy z cruises časy z shifts"
   ]
  },
  {
   "cell_type": "code",
   "execution_count": null,
   "metadata": {},
   "outputs": [],
   "source": [
    "combined = pd.merge(cruises, shifts, on=[\"Date\", \"boat\"], how=\"outer\")\n"
   ]
  },
  {
   "cell_type": "code",
   "execution_count": null,
   "metadata": {},
   "outputs": [],
   "source": [
    "# Pokud je nějaký čas uvedený v tabulce shifts (a není to prázdný řetězec nebo NaN --> nahraď čas v tabulce cruises tímto časem  \n",
    "\n",
    "combined['ETA_x'] = combined['ETA_x'].mask(combined['ETA_y'].notna() & (combined['ETA_y'] != ''), combined['ETA_y'])\n",
    "combined['ETD_x'] = combined['ETD_x'].mask(combined['ETD_y'].notna() & (combined['ETD_y'] != ''), combined['ETD_y'])\n",
    "\n"
   ]
  },
  {
   "cell_type": "code",
   "execution_count": null,
   "metadata": {},
   "outputs": [],
   "source": [
    "# Zbav se zbytečných sloupečků, pokud možno všech, co jsou původně tabulka shifts\n",
    "\n",
    "\n",
    "combined = combined.drop(['Date', 'time', 'ETA_y','ETD_y'], axis=\"columns\")\n",
    "\n",
    "combined.head(20)\n"
   ]
  },
  {
   "cell_type": "code",
   "execution_count": null,
   "metadata": {},
   "outputs": [],
   "source": [
    "combined[\"ETA date\"] = combined[\"Date of arrival\"] + \" \" + combined[\"ETA_x\"] + \":00\"\n",
    "combined[\"ETD date\"] = combined[\"Date of arrival\"] + \" \" + combined[\"ETD_x\"] + \":00\"\n",
    "\n",
    "# # Změní čas na typ datetime místo objectu, co to byl původně \n",
    "combined[\"ETA date\"] = pd.to_datetime(combined[\"ETA date\"], errors='coerce')\n",
    "combined[\"ETD date\"] = pd.to_datetime(combined[\"ETD date\"], errors='coerce')\n",
    "\n",
    "# # Vypočítá rozdíl v časech - vyhazuje to - 1 den když loď přijede před půlnocí a odjede na druhý den\n",
    "combined[\"Time in harbour\"] = combined[\"ETD date\"] - combined[\"ETA date\"]\n",
    "\n",
    "combined['Date of arrival'] = pd.to_datetime(combined['Date of arrival'])\n",
    "combined['Date of departure'] = pd.to_datetime(combined['Date of departure'])\n",
    "combined.info()\n"
   ]
  },
  {
   "cell_type": "code",
   "execution_count": null,
   "metadata": {},
   "outputs": [],
   "source": [
    "# Definice podmínky, za které se přičte den navíc do sloupečku \"Date of departure\"\n",
    "podminka_pridani_dne = combined[\"Time in harbour\"] < \"0 days 00:00:00\"\n",
    "\n",
    "# Aplikace podmínky\n",
    "combined.loc[podminka_pridani_dne, \"Date of departure\"] = combined[\"Date of departure\"] + timedelta(days=1)\n",
    "combined.loc[podminka_pridani_dne, \"ETD date\"] = combined[\"ETD date\"] + timedelta(days=1)\n",
    "# manuálně přidávám den k Jewel of the sea, protože to jinak neumím\n",
    "combined.loc[47, \"Date of departure\"] += timedelta(days=1)\n",
    "combined.loc[47, \"ETD date\"] += timedelta(days=1)\n",
    "#Vyhodím druhý Jewel of theseas, co se tam dostala asi z Shifts při mergování\n",
    "combined = combined.drop(index=45, axis=0) \n"
   ]
  },
  {
   "cell_type": "code",
   "execution_count": null,
   "metadata": {},
   "outputs": [],
   "source": [
    "combined.info()"
   ]
  },
  {
   "cell_type": "code",
   "execution_count": null,
   "metadata": {},
   "outputs": [],
   "source": [
    "combined.columns"
   ]
  },
  {
   "cell_type": "markdown",
   "metadata": {},
   "source": [
    "### Dataframe \"combined\" v tuhle chvíli obsahuje sjednocená jména lodí a časy opravené podle tabulky shifts"
   ]
  },
  {
   "cell_type": "code",
   "execution_count": null,
   "metadata": {},
   "outputs": [],
   "source": [
    "\n",
    "\n",
    "# Function to generate hourly data\n",
    "def expand_rows(row):\n",
    "    hours = pd.date_range(row['ETA date'], row['ETD date'], freq='h')\n",
    "    return pd.DataFrame({\n",
    "        'hourly_timestamp': hours,\n",
    "        # 'ETA date': row['ETA date'],\n",
    "        # 'ETD date': row['ETD date'],\n",
    "        # 'Unnamed: 0': row['Unnamed: 0'], \n",
    "        'Date of arrival': row['Date of arrival'],\n",
    "        'Date of departure': row['Date of departure'], \n",
    "        'ETA_x': row['ETA_x'], \n",
    "        'ETD_x': row['ETD_x'], \n",
    "        'boat': row['boat'],\n",
    "        'passengers': row['passengers'], \n",
    "        'quay': row['quay'],\n",
    "        'agent': row['agent'], \n",
    "        'weight': row['weight'], \n",
    "        'lenght': row['lenght'],\n",
    "        # 'Time in harbour': row['Time in harbour'],  \n",
    "    })\n",
    "\n",
    "# Apply the function and concatenate the results\n",
    "combined = pd.concat([expand_rows(row) for index, row in combined.iterrows()], ignore_index=True)\n",
    "\n",
    "combined = combined.drop(['Date of arrival', 'Date of departure', 'ETA_x','ETD_x'], axis=\"columns\")\n",
    "\n",
    "combined.to_csv(\"data/harbour_for_reals.csv\", encoding=\"utf-8\")"
   ]
  },
  {
   "cell_type": "markdown",
   "metadata": {},
   "source": [
    "### Holy Macaroni, popletla jsem Jewel of the Seas, opravim, ale potřebuju čas :D \n",
    "#### Jinak to podle mě fachčí"
   ]
  }
 ],
 "metadata": {
  "kernelspec": {
   "display_name": "Python 3",
   "language": "python",
   "name": "python3"
  },
  "language_info": {
   "codemirror_mode": {
    "name": "ipython",
    "version": 3
   },
   "file_extension": ".py",
   "mimetype": "text/x-python",
   "name": "python",
   "nbconvert_exporter": "python",
   "pygments_lexer": "ipython3",
   "version": "3.12.2"
  }
 },
 "nbformat": 4,
 "nbformat_minor": 2
}
