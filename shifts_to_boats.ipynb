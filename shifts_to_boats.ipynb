{
 "cells": [
  {
   "cell_type": "code",
   "execution_count": 20,
   "metadata": {},
   "outputs": [],
   "source": [
    "import pandas as pd"
   ]
  },
  {
   "cell_type": "code",
   "execution_count": 16,
   "metadata": {},
   "outputs": [],
   "source": [
    "# recoding = pd.read_csv('data/05_shifts.csv', encoding ='Windows 1252')\n",
    "# recoding.to_csv('data/05_shifts_01.csv', encoding ='utf-8')"
   ]
  },
  {
   "cell_type": "code",
   "execution_count": 15,
   "metadata": {},
   "outputs": [],
   "source": [
    "# pokus o vytazeni jmen pracovniku ze shifts. Nefunguje a ja nevim proc\n",
    "\n",
    "\n",
    "# names = pd.read_csv('data/05_shifts.csv')\n",
    "\n",
    "# # Getting distinct values from the 'names' column\n",
    "# distinct_names = names['Unnamed:0'].unique()\n",
    "\n",
    "# # Convert numpy array to a Python list\n",
    "# workers = distinct_names.tolist()\n",
    "\n",
    "# print(workers)"
   ]
  },
  {
   "cell_type": "code",
   "execution_count": 19,
   "metadata": {},
   "outputs": [],
   "source": []
  },
  {
   "cell_type": "code",
   "execution_count": 22,
   "metadata": {},
   "outputs": [],
   "source": [
    "# TOTO JE PUVODNE SKRIPT shifts. py. Snazim se ted napsat to do jednoho skriptu tak, abych nemusela delat mezikrok v LibreOfficu.\n",
    "\n",
    "with open('data/05_shifts.csv', mode='r', encoding='utf-8') as file:\n",
    "    text = file.read()\n",
    "splitted = text.split(\",\\n\")\n",
    "\n",
    "rest = []\n",
    "for clen in splitted:\n",
    "    if clen != ',,,,,,,':\n",
    "        rest.append(clen)\n",
    "\n",
    "workers = ['Kaisa', 'Lars Oskar', 'Anne Line', 'Hanne', 'Tiril', 'Andrea', 'Malin', 'Toni'] # da se napsat prikaz, ktery mi to z prvniho sloupecku vybere jako distinct hodnoty? - abych to nemusela vypisovat jako trotl\n",
    "\n",
    "ships = [item for item in rest if not any(name in item for name in workers)]\n",
    "\n",
    "ships_out = \"\\n\".join(ships)\n",
    "\n",
    "with open('data/05_shifts_to_boats.csv', mode='w', encoding='utf-8') as output_file:\n",
    "    print(ships_out, file=output_file)\n",
    "\n",
    "\n",
    "# mezikrok v cisteni mezi vysledkem tohoto a vstupnim souborem pro Shifts to boats byl udelat v libre office. Je mozne to udelat v pythonu a jak? Idealne bych to mela cele v jednom souboru, aby to bylo na 1 klik"
   ]
  },
  {
   "cell_type": "code",
   "execution_count": 24,
   "metadata": {},
   "outputs": [],
   "source": [
    "# Doplneni '*' pred datum. Bude slouzit jako separator\n",
    "\n",
    "# Load the CSV file, assuming no header in the file\n",
    "df_shifts = pd.read_csv('data/05_shifts_to_boats.csv', header=None)\n",
    "\n",
    "# Function to check if a cell contains a '/'\n",
    "def contains_slash(cell):\n",
    "    return '/' in str(cell)\n",
    "\n",
    "# Iterate over rows in the DataFrame\n",
    "for i in range(len(df_shifts)):\n",
    "    # Check if any cell in the row contains '/'\n",
    "    if any(contains_slash(cell) for cell in df_shifts.iloc[i]):\n",
    "        # Prepend '*' to the 'jmeno' column of this row\n",
    "        df_shifts.at[i, 0] = '*' + str(df_shifts.at[i, 0]).strip()\n",
    "\n",
    "df_shifts[0] = df_shifts[0].replace('*nan', '*')\n",
    "\n",
    "# Save the updated DataFrame back to CSV\n",
    "df_shifts.to_csv('data/05_shifts_to_boats_01.csv', index=False, header=False)"
   ]
  },
  {
   "cell_type": "code",
   "execution_count": 25,
   "metadata": {},
   "outputs": [
    {
     "name": "stdout",
     "output_type": "stream",
     "text": [
      "['jmeno,Mandag,Tirsdag,Onsdag,Torsdag,Fredag,Lordag,Sondag\\n', ',5/1/2023,5/2/2023,5/3/2023,5/4/2023,5/5/2023,5/6/2023,5/7/2023\\n', ',5/8/2023,5/9/2023,5/10/2023,5/11/2023,5/12/2023,5/13/2023,5/14/2023\\n,Fantasia,,,,,,\\n,1700-0200,,,,,,\\n', ',5/15/2023,5/16/2023,5/17/2023,5/18/2023,5/19/2023,5/20/2023,5/21/2023\\n,,,,,Otto Sverdrup ?,,\\n,,,,,1400 - 2200,,\\n', ',5/22/2023,5/23/2023,5/24/2023,5/25/2023,5/26/2023,5/27/2023,5/28/2023\\n,Nieuw Statendam?,Preziosa,,,Aidaluna,,\\n,0800-1800,1300-0100,,,2300 - 0500,,\\n', ',5/29/2023,5/30/2023,5/31/2023,6/1/2023,6/2/2023,6/3/2023,6/4/2023\\n,,Viking Neptune,,,Aidabella,Pacific World (p1800),Hamburg ? \\n,,0800 - 1800,,,2200 - 0800,1000 - 2000,1800 - 2400\\n,,,,,Otto Sverdrup ?,,Mein Schiff 1\\n,,,,,1400 - 2200,,1900 - 0600\\n', ',6/5/2023,6/6/2023,6/7/2023,6/8/2023,6/9/2023,6/10/2023,6/11/2023\\n,,Artania,,Trollfjord,,,\\n,,1800 - 2400,,1000 - 1800,,,\\n,,Bolette,,,,,\\n,,? - 1800,,,,,\\n', ',6/12/2023,6/13/2023,6/14/2023,6/15/2023,6/16/2023,6/17/2023,6/18/2023\\n,Queen Viktoria (2200),,,Mein Schiff 1,Norwegian Star,Vasco Da Gama,Island Princess\\n,0700 - 1700,,,1800 - 0600,0700 - 0230,0700 - 1600,0800 - 2000\\n,Preziosa,,,Aidasol,Aidabella,Seabourn Ovation,\\n,1500 - 0200,,,2300 - 0500,2200 - 0800,1100 - 2100,\\n,,,,,Aidaluna,,\\n,,,,,2300 - 0500,,\\n', ',6/19/2023,6/20/2023,6/21/2023,6/22/2023,6/23/2023,6/24/2023,6/25/2023\\n,Costa Fascinosa,,Silver Dawn,Jewel of the seas,Sky Princess,Ocean Majesty?,Gann\\n,1300 - 0200,,0800 - 1800,-1600,1000 - 2000,2200 - 0230,1000 - 1400\\n,,,Jewel of the seas,Trollfjord,Ambition,,\\n,,,1400 - ,1000 - 1800,1400 - 2400,,\\n', ',6/26/2023,6/27/2023,6/28/2023,6/29/2023,6/30/2023,7/1/2023,7/2/2023\\n,Mein Schiff 1,Artania,,Amera,Ambience p1000,,Viking Venus\\n,1800 - 0600,1000 - 1800,,1700 - 0200,1200 - 0200,,0800 - 1700\\n,Spirit of Adventure,Preziosa,Viking Saturn,,Otto Sverdrup ?,,\\n,0800 - 1700,1200 - 0200,0800 - 1800,,1100 - 1700,,\\n,,Mein Schiff,,,,,\\n,,1815 - 0330,,,,,\\n', ',7/3/2023,7/4/2023,7/5/2023,7/6/2023,7/7/2023,7/8/2023,7/9/2023\\n,Azamara Pursuit,World Voyager,,Trollfjord,World Explorer,Rotterdam,\\n,1300 - 2000,0700 - 1500,,1000 - 1800,0800 - 1600,0800 - 1800,\\n,Amadea,,,,Mein Schiff 1,Artania,\\n,2100 - 0600,,,,1800 - 0400,0800 - 1700,\\n,Aidaluna,,,,,,\\n,2300 - 0500,,,,,,\\n', \",7/10/2023,7/11/2023,7/12/2023,7/13/2023,7/14/2023,7/15/2023,7/16/2023\\n,,Costa Fascinosa,Viking Saturn,,Aidabella,Amera,Jewel of the Seas\\n,,0800 - 1700,0800 - 1800,,1800 - 0500,0900 - 1800,0800 - 1800\\n,,Borealis 61',,,Otto Sverdrup ?,Seabourn Ovation,\\n,,? - 1700,,,1100 -1700,1100 - 2100,\\n,,,,,,Renaissance?,\\n,,,,,,1400 - 2000 (Anker),\\n\", ',7/17/2023,7/18/2023,7/19/2023,7/20/2023,7/21/2023,7/22/2023,7/23/2023\\n,Mein Schiff 4,World Voyager,World Explorer,Trollfjord,,,\\n,0800 - 1800,0700 - 1530,1700 - 2400,1000 - 1800,,,\\n,,Preziosa,Nieuw Statendam,Aidaluna,,,Vasco Da Gama\\n,,1300 - 0200,1000 - 1800,2300 - 0500,,,? - 2200\\n,,Mein Schiff 1,Amadea,,,,\\n,,1800 - 0400,1700 - 2300,,,,\\n', ',7/24/2023,7/25/2023,7/26/2023,7/27/2023,7/28/2023,7/29/2023,7/30/2023\\n,Viking Mars,Balmoral,Viking Saturn,,Aidabella,Mein Schiff 1,Viking Venus\\n,0800 - 1800,0830 - 1600,0800 - 1800,,2200 - 0800,1900 - 0600,0800 - 1700\\n,,,,,Otto Sverdrup ?,,\\n,,,,,1500 - 2100,,\\n', ',7/31/2023,8/1/2023,8/2/2023,8/3/2023,8/4/2023,8/5/2023,8/6/2023\\n,Mein Schiff 4 ,Costa Fascinosa,Norwegian Star,Island Princess?,Island Princess?,MS Marina p600,Aidaluna\\n,0800 - 1800,0800? - 2400,0800? - 2100,0700 - 2000,0700 - 2000,0700 - 2300,2300 - 0500\\n,,Ambition?,,Trollfjord,Hamburg,,\\n,,? - 2400,,1000 - 1800,2130 - 0200,,\\n,,,,World Traveler,,,\\n,,,,0800 - 1600,,,\\n', ',8/7/2023,8/8/2023,8/9/2023,8/10/2023,8/11/2023,8/12/2023,8/13/2023\\n,,Mein Schiff 3,Viking Mars,Azamara Journey,Riviera p1258,Seabourn Ovation,\\n,,1900 - 0600,0800 - 1700,1300 - 2000,0700 - 1700,1100 - 2100,\\n,,,Viking Saturn,,Otto Sverdrup ?,,\\n,,,0800 - 1800,,1500 - 2100,,\\n,,,World Traveler,,,,\\n,,,0800 - 1600,,,,\\n', ',8/14/2023,8/15/2023,8/16/2023,8/17/2023,8/18/2023,8/19/2023,8/20/2023\\n,Preziosa,,Seven Seas Navigator,Arcadia p2388,,,\\n,1300 - 0200,,0900 - 2300,0900 - 1700,,,\\n,,,Mein Schiff 6,Trollfjord,,,\\n,,,1900 - 0600,1000 - 1800,,,\\n', ',8/21/2023,8/22/2023,8/23/2023,8/24/2023,8/25/2023,8/26/2023,8/27/2023\\n,,Costa Fascinosa,Norwegian Star,Preziosa ,Aidabella,Sky Princess,Europa (Skarsv?g)\\n,,0800 - 1700 ,0700 - 1700,1300 - 0200,2200 - 0800,1000 - 2000,1800 - 2400\\n,,,Aidaluna,,Sverdrup?,,\\n,,,2300 - 0500,,1500 - 2200,,\\n', ',8/28/2023,8/29/2023,8/30/2023,8/31/2023,9/1/2023,9/2/2023,9/3/2023\\n,Viking Neptune,,,Trollfjord,Artania,,Vasgo Da Gama\\n,0800 - 1800,,,1000 - 1800,0800 - 1600,,0700 - 1600\\n,,,,,,,Greg Mortimer p160\\n,,,,,,,1000 - 1500\\n', ',9/4/2023,9/5/2023,9/6/2023,9/7/2023,9/8/2023,9/9/2023,9/10/2023\\n,,,,,Otto Sverdrup,,\\n,,,,,1400 - 2200,,\\n', ',9/11/2023,9/12/2023,9/13/2023,9/14/2023,9/15/2023,9/16/2023,9/17/2023\\n,,Costa Fascinosa,,Trollfjord,,,\\n,,0800 - 1700,,1000 - 1800,,,\\n', ',9/18/2023,9/19/2023,9/20/2023,9/21/2023,9/22/2023,9/23/2023,9/24/2023\\n,,,,Amadea,Sverdrup,,\\n,,,,1100 - 1800,1400 - 2200,,\\n', ',9/25/2023,9/26/2023,9/27/2023,9/28/2023,9/29/2023,9/30/2023,10/1/2023\\n,,,,,,,Trollfjord\\n,,,,,,,0800 - 1800\\n']\n"
     ]
    }
   ],
   "source": [
    "# ted mam predcisteny soubor v takovem stavu, ze jsem se zbavila smen pracovniku, ktere nepotrebuju, prazdnych radku, ktere nepotrebuju a pred datumy/tydny mam hvezdicku - ta bude slouzit jako separator do budoucna.\n",
    "# co bych s tim ted chtela udelat: potrebuju to rozdelit pomosi te hvezdicky na jednotlive tabulky - mela bych pak mit treba seznam tabulek (slovnik?) a jednotlive tabulky poskladat za sebe (pomoci concat?). Ulozit jako shifts to boats 2. Mela bych se timto dostat do zakladniho kroku dalsiho oddilu\n",
    "with open('data/05_shifts_to_boats_01.csv', mode='r', encoding='utf-8') as file:\n",
    "    text = file.read()\n",
    "splitted = text.split(\"*\")\n",
    "\n",
    "print(splitted)\n"
   ]
  },
  {
   "cell_type": "code",
   "execution_count": null,
   "metadata": {},
   "outputs": [],
   "source": [
    "\n",
    "boats = pd.read_csv('data/05_shifts_to_boats_02.csv', encoding ='Windows 1252')\n",
    "boats = boats.T\n",
    "\n",
    "headers = ['boat1', 'time1', 'boat2', 'time2', 'boat3', 'time3']\n",
    "boats.columns = headers\n",
    "boats.index.name = 'date'\n",
    "\n",
    "\n",
    "boats.to_csv('data/05_shifts_to_boats_03.csv', encoding ='utf-8') # I am saving it and again opening because it cannot read the 1st header otherwise"
   ]
  },
  {
   "cell_type": "code",
   "execution_count": null,
   "metadata": {},
   "outputs": [],
   "source": [
    "# serazeni vsech zmen za sebe\n",
    "\n",
    "boats = pd.read_csv('data/05_shifts_to_boats_03.csv', encoding ='utf-8')\n",
    "\n",
    "boats1 = boats[['date', 'boat1', 'time1']]\n",
    "boats1 = boats1.rename(columns={'boat1' : 'boat', 'time1': 'time'})\n",
    "\n",
    "boats2 = boats[['date', 'boat2', 'time2']]\n",
    "boats2 = boats2.rename(columns={'boat2' : 'boat', 'time2': 'time'})\n",
    "\n",
    "boats3 = boats[['date', 'boat3', 'time3']]\n",
    "boats3 = boats3.rename(columns={'boat3' : 'boat', 'time3': 'time'})\n",
    "\n",
    "new_times = pd.concat([boats1, boats2, boats3], ignore_index=True)\n",
    "new_times"
   ]
  },
  {
   "cell_type": "code",
   "execution_count": null,
   "metadata": {},
   "outputs": [],
   "source": [
    "changes_only = new_times.dropna(subset=['boat'])\n",
    "changes_only = changes_only.drop(17, axis='index')\n",
    "changes_only"
   ]
  },
  {
   "cell_type": "code",
   "execution_count": null,
   "metadata": {},
   "outputs": [],
   "source": [
    "replacements = {\n",
    "    'Aidabella': 'AIDAbella',\n",
    "    'Aidaluna': 'AIDAluna',\n",
    "    'AidaMar': 'AIDAmar',\n",
    "    'Aidasol': 'AIDAsol',\n",
    "    'Preziosa': 'MSC Preziosa',\n",
    "    'Sverdrup': 'Otto Sverdrup',\n",
    "    'Sverdrup ?': 'Otto Sverdrup',\n",
    "    'Hamburg ?': 'Hamburg',\n",
    "    'Ocean Majesty?': 'Ocean Majesty',\n",
    "    'Mein Schiff': 'Mein Schiff 4',\n",
    "    'Island Princess?': 'Ocean Majesty',\n",
    "    'Nieuw Statendam?': 'Nieuw Statendam',\n",
    "    \"Borealis 61'\": 'Borealis',\n",
    "    'Europa (Skarsv?g)': 'Europa',\n",
    "    'Pacific World (p1800)': 'Pacific World',\n",
    "    'Queen Viktoria (2200)': 'Queen Viktoria',\n",
    "    'Ambience p1000': 'Ambience',\n",
    "    'MS Marina p600': 'MS Marina',\n",
    "    'Riviera p1258': 'Riviera',\n",
    "    'Preziosa ': 'MSC Preziosa',\n",
    "    'Preziosa': 'MSC Preziosa',\n",
    "    'Ambition?': 'Ambition',\n",
    "    'Greg Mortimer p160': 'Greg Mortimer'\n",
    "}\n",
    "\n",
    "changes_only['boat'] = changes_only['boat'].replace(replacements)"
   ]
  },
  {
   "cell_type": "code",
   "execution_count": null,
   "metadata": {},
   "outputs": [],
   "source": [
    "changes_only.to_csv('data/05_shifts_to_boats_04.csv', encoding ='utf-8', index=False)"
   ]
  }
 ],
 "metadata": {
  "kernelspec": {
   "display_name": "Python 3",
   "language": "python",
   "name": "python3"
  },
  "language_info": {
   "codemirror_mode": {
    "name": "ipython",
    "version": 3
   },
   "file_extension": ".py",
   "mimetype": "text/x-python",
   "name": "python",
   "nbconvert_exporter": "python",
   "pygments_lexer": "ipython3",
   "version": "3.12.2"
  }
 },
 "nbformat": 4,
 "nbformat_minor": 2
}
